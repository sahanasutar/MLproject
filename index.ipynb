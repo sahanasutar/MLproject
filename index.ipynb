{
 "cells": [
  {
   "cell_type": "markdown",
   "metadata": {},
   "source": [
    "**main code**"
   ]
  },
  {
   "cell_type": "code",
   "execution_count": null,
   "metadata": {},
   "outputs": [],
   "source": [
    "#importing libraries\n",
    "from sklearn.externals import joblib\n",
    "#import joblib\n"
   ]
  },
  {
   "cell_type": "code",
   "execution_count": null,
   "metadata": {},
   "outputs": [],
   "source": [
    "\n",
    "terms = [[2,140,180,0,1,140,0,1.9,1,3,1]]\n",
    "  \n"
   ]
  },
  {
   "cell_type": "code",
   "execution_count": null,
   "metadata": {},
   "outputs": [],
   "source": [
    "#load the logistic regression pickle file\n",
    "classifier = joblib.load('final_models/logisticR_final.pkl')\n",
    "#checking and predicting\n",
    "#checkprediction = inputScript.main(url)\n",
    "prediction = classifier.predict(terms)\n",
    "print(prediction)"
   ]
  },
  {
   "cell_type": "code",
   "execution_count": null,
   "metadata": {},
   "outputs": [],
   "source": [
    "#load the random forest pickle file\n",
    "classifier = joblib.load('final_models/rf_final.pkl')\n",
    "#checking and predicting\n",
    "checkprediction = inputScript.main(url)\n",
    "prediction = classifier.predict(checkprediction)\n",
    "print(prediction)"
   ]
  },
  {
   "cell_type": "code",
   "execution_count": null,
   "metadata": {},
   "outputs": [],
   "source": [
    "#load the svm pickle file\n",
    "classifier = joblib.load('final_models/svm_final.pkl')\n",
    "#checking and predicting\n",
    "checkprediction = inputScript.main(url)\n",
    "prediction = classifier.predict(checkprediction)\n",
    "print(prediction)"
   ]
  },
  {
   "cell_type": "code",
   "execution_count": null,
   "metadata": {},
   "outputs": [],
   "source": []
  }
 ],
 "metadata": {
  "kernelspec": {
   "display_name": "Python 3",
   "language": "python",
   "name": "python3"
  },
  "language_info": {
   "codemirror_mode": {
    "name": "ipython",
    "version": 3
   },
   "file_extension": ".py",
   "mimetype": "text/x-python",
   "name": "python",
   "nbconvert_exporter": "python",
   "pygments_lexer": "ipython3",
   "version": "3.6.3"
  }
 },
 "nbformat": 4,
 "nbformat_minor": 4
}
